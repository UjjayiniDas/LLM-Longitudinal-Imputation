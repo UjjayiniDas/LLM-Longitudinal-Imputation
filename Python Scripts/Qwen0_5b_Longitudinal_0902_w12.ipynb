{
  "nbformat": 4,
  "nbformat_minor": 0,
  "metadata": {
    "colab": {
      "provenance": [],
      "machine_shape": "hm",
      "gpuType": "A100"
    },
    "kernelspec": {
      "name": "python3",
      "display_name": "Python 3"
    },
    "language_info": {
      "name": "python"
    },
    "accelerator": "GPU"
  },
  "cells": [
    {
      "cell_type": "code",
      "source": [
        "# Importing the sys module to access system-specific parameters and functions\n",
        "import sys\n",
        "# Importing the os module to interact with the operating system\n",
        "import os\n",
        "\n",
        "# This function checks if CUDA (GPU support) is available and installs necessary dependencies for fine-tuning\n",
        "# If CUDA is not available, it warns the user to select a GPU runtime\n",
        "# The function installs the following packages:\n",
        "# - openpyxl: Library for reading and writing Excel files (xlsx/xlsm/xltx/xltm)\n",
        "def install_dependencies():\n",
        "    import torch\n",
        "    if not torch.cuda.is_available():\n",
        "      print(\"CUDA is not available. \\nPick a GPU before running this notebook. \\nGo to 'Runtime' -> 'Change runtime type' to do this. (Colab)\")\n",
        "      return\n",
        "    %pip install bitsandbytes\n",
        "    %pip install accelerate\n",
        "    %pip install transformers\n",
        "    %pip install datasets\n",
        "    %pip install evaluate\n",
        "    %pip install peft\n",
        "    %pip install trl\n",
        "    %pip install evaluate\n",
        "    %pip install scikit-learn\n",
        "    %pip install wandb\n",
        "    return"
      ],
      "metadata": {
        "id": "rjExkJDYPKJz"
      },
      "execution_count": null,
      "outputs": []
    },
    {
      "cell_type": "code",
      "source": [
        "def is_running_in_colab():\n",
        "    return \"google.colab\" in sys.modules\n",
        "\n",
        "if is_running_in_colab() or is_running_in_kaggle():\n",
        "    print(\"Running on Colab/Kaggle\")\n",
        "    install_dependencies()\n",
        "else:\n",
        "    print(\"Not running in Colab/Kaggle\")"
      ],
      "metadata": {
        "id": "yvUSsaqVPO_B"
      },
      "execution_count": null,
      "outputs": []
    },
    {
      "cell_type": "code",
      "source": [
        "import transformers\n",
        "\n",
        "seed = 22 # Please set your own favorite seed!\n",
        "\n",
        "# set the seed\n",
        "transformers.set_seed(seed)"
      ],
      "metadata": {
        "id": "9XHVJtK4PT2E"
      },
      "execution_count": null,
      "outputs": []
    },
    {
      "cell_type": "code",
      "source": [
        "def download_data():\n",
        "    !git clone https://github.com/UjjayiniDas/LLM-NLPOR-Work.git\n",
        "    %mv LLM-NLPOR-Work/Data/ .\n",
        "    %rm -rf LLM-NLPOR-Work/\n",
        "    return\n",
        "\n",
        "download_data()"
      ],
      "metadata": {
        "id": "Rm9yp93uPZIA"
      },
      "execution_count": null,
      "outputs": []
    },
    {
      "cell_type": "code",
      "source": [
        "# Import pandas for data manipulation and analysis\n",
        "# This library provides data structures like DataFrames that make working with structured data easy\n",
        "import pandas as pd\n",
        "\n",
        "# Read the CSV file into a pandas DataFrame\n",
        "df_snap_w12 = pd.read_csv(\"Data/Processed_for_LLM/Wave12_processed.csv\")\n",
        "df_snap_nonimp_w12= df_snap_w12[df_snap_w12[\"imputed_snap\"] == False]\n",
        "\n",
        "# Removing imputed identifier column\n",
        "df_snap_nonimp_w12_final= df_snap_nonimp_w12.drop(\"unique_ID\",axis=1).drop(\"snap_wave1\",axis=1).drop(\"imputed_snap_wave1\",axis=1).drop(\"snap\",axis=1).drop(\"imputed_snap\",axis=1)"
      ],
      "metadata": {
        "id": "T6HeiXQEQbX7"
      },
      "execution_count": null,
      "outputs": []
    },
    {
      "cell_type": "code",
      "source": [
        "# Display some rows of the DataFrame\n",
        "df_snap_nonimp_w12_final.head(5)"
      ],
      "metadata": {
        "id": "jnMTq6_jWWJb"
      },
      "execution_count": null,
      "outputs": []
    },
    {
      "cell_type": "code",
      "source": [
        "features = [\n",
        "    # Demographics\n",
        "    \"wave ID\",\n",
        "    \"marital status\",\n",
        "    \"sex\",\n",
        "    \"hispanic origin\",\n",
        "    \"race\",\n",
        "    \"education\",\n",
        "    \"citizenship\",\n",
        "    \"employment\",\n",
        "    \"state\",\n",
        "    \"age\",\n",
        "    \"income\",\n",
        "    \"SNAP_wave1\"\n",
        "]\n",
        "label = \"SNAP\" # this is the snap coverage in wave 2 (dependent) in this dataset\n",
        "## No missing values"
      ],
      "metadata": {
        "id": "oOSenUMcUiYD"
      },
      "execution_count": null,
      "outputs": []
    },
    {
      "cell_type": "code",
      "source": [
        "# Splitting nonimputed dataset into train/test\n",
        "#%pip install scikit-learn datasets\n",
        "#import sklearn\n",
        "from sklearn.model_selection import train_test_split\n",
        "from datasets import Dataset, DatasetDict\n",
        "\n",
        "df_snap_nonimp_w12_train, df_snap_nonimp_w12_test = train_test_split(\n",
        "    df_snap_nonimp_w12_final,  # The processed survey dataframe to split into train and test sets\n",
        "    test_size=0.3,        # Allocate 20% of the data to the test set\n",
        "    random_state=seed,    # Set a random seed for reproducibility of the split\n",
        ")\n",
        "\n",
        "\n",
        "dataset_snap_w12 = DatasetDict({\n",
        "    \"train\": Dataset.from_pandas(df_snap_nonimp_w12_train, preserve_index=False),  # Convert training dataframe to a Hugging Face Dataset\n",
        "    \"test\": Dataset.from_pandas(df_snap_nonimp_w12_test, preserve_index=False),    # Convert test dataframe to a Hugging Face Dataset\n",
        "})"
      ],
      "metadata": {
        "id": "0qfqBDs_VYst"
      },
      "execution_count": null,
      "outputs": []
    },
    {
      "cell_type": "code",
      "source": [
        "# Model Selection\n",
        "# id of a model hosted on Hugging Face\n",
        "model_id = \"Qwen/Qwen2.5-0.5B-Instruct\"\n",
        "\n",
        "# Loading tokenizer\n",
        "from transformers import AutoTokenizer\n",
        "\n",
        "tokenizer = AutoTokenizer.from_pretrained(\n",
        "    model_id,  # The ID of the model to load the tokenizer for\n",
        "    revision= \"2b01de6d1108f9b2b5e46a726aa678a359b6c03b\", # NOTE: revision should be set for an reproducible experiment\n",
        "    trust_remote_code=True,  # Allow the tokenizer to execute remote code from the model repository\n",
        ")"
      ],
      "metadata": {
        "id": "q1s3hKi5WydC"
      },
      "execution_count": null,
      "outputs": []
    },
    {
      "cell_type": "code",
      "source": [
        "# Prompt Design\n",
        "instruction = (\n",
        "    \"You are an expert text classifier. Please perform a classification task. The Supplemental Nutrition Assistance Program (SNAP) provides food-purchasing assistance to low-income individuals and families in the U.S.\"\n",
        "    \"You will be given a respondent’s survey answers from wave 1 of the 2014 Survey of Income and Program Participation (SIPP), along with their demographic information, income, and their reported SNAP coverage in wave 1.\"\n",
        "    \"Based on this information, classify if the person has coverage for SNAP in wave 2.\"\n",
        "    \"Return only one label: either 'Yes' or 'No', without any other text.\\n\"\n",
        ")\n",
        "\n",
        "column_name_map= {\n",
        "    \"wave ID\":\"Wave of SIPP\",\n",
        "    \"marital status\":\"Marital Status\",\n",
        "    \"sex\":\"Sex\",\n",
        "    \"hispanic origin\":\"Hispanic Origin\",\n",
        "    \"race\":\"Race\",\n",
        "    \"education\":\"Educational Attainment\",\n",
        "    \"citizenship\":\"Citizenship\",\n",
        "    \"employment\":\"Employment Status\",\n",
        "    \"state\":\"State of Residence\",\n",
        "    \"age\":\"Age\",\n",
        "    \"income\":\"Income\",\n",
        "    \"SNAP_wave1\":\"Coverage for SNAP in Wave 1\",\n",
        "    \"SNAP\":\"Coverage for SNAP\"\n",
        "}"
      ],
      "metadata": {
        "id": "aN6y6fC_XiRy"
      },
      "execution_count": null,
      "outputs": []
    },
    {
      "cell_type": "code",
      "source": [
        "# Prompt Completion Pair\n",
        "def build_prompt_completion(\n",
        "    row: dict,\n",
        "    system_prompt: str = instruction,\n",
        ") -> list[list[dict]]:\n",
        "    user_prompt = \"\\n\".join(\n",
        "        [f\"{column_name_map[k]}: {v}\" for k, v in row.items() if k != label]\n",
        "    )\n",
        "    assistant_prompt = row[label]\n",
        "    return {\n",
        "        \"prompt\": [\n",
        "            {\n",
        "                \"role\": \"system\",\n",
        "                \"content\": system_prompt,\n",
        "            },\n",
        "            {\n",
        "                \"role\": \"user\",\n",
        "                \"content\": user_prompt,\n",
        "            },\n",
        "        ],\n",
        "        \"completion\": [\n",
        "            {\n",
        "                \"role\": \"assistant\",\n",
        "                \"content\": assistant_prompt,\n",
        "            },\n",
        "        ],\n",
        "    }\n",
        "\n",
        "\n",
        "build_prompt_completion(\n",
        "    row=dataset_snap_w12[\"train\"][0],\n",
        ")"
      ],
      "metadata": {
        "id": "1MUh07OhYqSJ"
      },
      "execution_count": null,
      "outputs": []
    },
    {
      "cell_type": "code",
      "source": [
        "# Transforming our tabular data into a format suitable for fine-tuning.\n",
        "dataset_snap_w12_llm = dataset_snap_w12.map(build_prompt_completion).remove_columns(features+[label])\n",
        "dataset_snap_w12_llm"
      ],
      "metadata": {
        "id": "c_QhunuRZBaE"
      },
      "execution_count": null,
      "outputs": []
    },
    {
      "cell_type": "code",
      "source": [
        "# Reducing the memory requirements of the model using quantization.\n",
        "\n",
        "import torch\n",
        "from transformers import AutoModelForCausalLM, BitsAndBytesConfig\n",
        "\n",
        "# load model in 4bit\n",
        "model = AutoModelForCausalLM.from_pretrained(\n",
        "    model_id,  # The ID of the model to load\n",
        "    quantization_config=BitsAndBytesConfig(\n",
        "        load_in_4bit=True,  # Enable 4-bit quantization to reduce memory usage\n",
        "    ),\n",
        "    trust_remote_code=True,  # Allow execution of remote code from the model repository\n",
        "    device_map=\"auto\",  # Automatically determine whether to use CPU or GPU\n",
        ")\n",
        "\n",
        "# Overview of the model architecture\n",
        "model"
      ],
      "metadata": {
        "id": "M-EKiNAxZhrf"
      },
      "execution_count": null,
      "outputs": []
    },
    {
      "cell_type": "code",
      "source": [
        "from trl import SFTConfig, SFTTrainer\n",
        "from datetime import datetime\n",
        "from peft import LoraConfig, TaskType\n",
        "\n",
        "# key hyperparameters\n",
        "learning_rate = 2e-5  # Learning rate for optimizer - controls how quickly model parameters are updated\n",
        "batch_size = 8        # Number of samples processed in each training batch\n",
        "epochs = 1            # Number of complete passes through the training dataset\n",
        "\n",
        "now = datetime.now().strftime(\"%Y-%m-%d_%H-%M-%S\")\n",
        "dataset_name = \"sipp 2014 snap\"\n",
        "run_name = f\"{model_id}_{dataset_name}_seed_{seed}_{now}\" # The run name. TODO choose your own run name\n",
        "\n",
        "\n",
        "# key hyperparameters\n",
        "lora_rank = 8\n",
        "lora_alpha = 8\n",
        "\n",
        "lora_config = LoraConfig(\n",
        "    r=lora_rank,  # Rank of the low-rank matrices\n",
        "    lora_alpha=lora_alpha,  # Scaling factor for the LoRA contribution\n",
        "    lora_dropout=0.05,  # Dropout probability for regularization (default)\n",
        "    bias=\"none\",  # Don't apply LoRA to bias parameters (default)\n",
        "    task_type=TaskType.CAUSAL_LM,  # Specify that we're fine-tuning a causal language model\n",
        "    target_modules=\"all-linear\",  # Apply LoRA to all linear layers in the model\n",
        ")\n",
        "\n",
        "#lora_config\n",
        "\n",
        "training_args = SFTConfig(\n",
        "    # training parameters\n",
        "    per_device_train_batch_size=batch_size,  # number of samples per batch on each device during training\n",
        "    per_device_eval_batch_size=batch_size,   # number of samples per batch on each device during evaluation\n",
        "    num_train_epochs=epochs,                 # total number of training epochs\n",
        "\n",
        "    # evaluation settings\n",
        "    do_eval=True,                            # whether to run evaluation\n",
        "    eval_strategy=\"steps\",                   # when to run evaluation (after certain steps)\n",
        "    eval_steps=1 / 3,                        # evaluate after each third of an epoch\n",
        "\n",
        "    # logging configuration\n",
        "    logging_steps=10,                        # log metrics every 10 steps\n",
        "    report_to=\"none\",                        # send logs to desired location\n",
        "    run_name=run_name,                       # name of the run for tracking\n",
        "\n",
        "    output_dir=\"./results\",                  # directory to save model checkpoints (and logs)\n",
        ")\n",
        "\n",
        "trainer = SFTTrainer(\n",
        "    model=model,                             # The pre-trained model to fine-tune\n",
        "    train_dataset=dataset_snap_w12_llm[\"train\"],      # Training dataset with prompts and completions\n",
        "    eval_dataset=dataset_snap_w12_llm[\"test\"],        # Evaluation dataset for testing model performance\n",
        "    args=training_args,                     # Training configuration settings\n",
        "    peft_config=lora_config                 # LoRA configuration for parameter-efficient fine-tuning\n",
        "\n",
        ")"
      ],
      "metadata": {
        "id": "tlnYR35zZ0X9"
      },
      "execution_count": null,
      "outputs": []
    },
    {
      "cell_type": "code",
      "source": [
        "trainer.train() # run fine-tuning and evaluate at intermediate steps"
      ],
      "metadata": {
        "id": "R7AoTtyxacON"
      },
      "execution_count": null,
      "outputs": []
    },
    {
      "cell_type": "code",
      "source": [
        "trainer.evaluate() # evaluate the model on test data to log zero-shot performance"
      ],
      "metadata": {
        "id": "pwoDp37HbiSF"
      },
      "execution_count": null,
      "outputs": []
    },
    {
      "cell_type": "code",
      "source": [
        "#Updating model and tokenizer\n",
        "model_finetuned= trainer.model\n",
        "tokenizer_finetuned= trainer.tokenizer"
      ],
      "metadata": {
        "colab": {
          "base_uri": "https://localhost:8080/"
        },
        "id": "URlzB1_Sb6KH",
        "outputId": "52393013-36a1-41c9-8ab0-1cb71f4aa044"
      },
      "execution_count": null,
      "outputs": [
        {
          "output_type": "stream",
          "name": "stderr",
          "text": [
            "Trainer.tokenizer is now deprecated. You should use Trainer.processing_class instead.\n"
          ]
        }
      ]
    },
    {
      "cell_type": "code",
      "source": [
        "# Set roles in the prompt-completition pairs for easy cleaning\n",
        "def format_chat_prompt(prompt_list):\n",
        "    formatted = \"\"\n",
        "    for msg in prompt_list:\n",
        "        role = msg[\"role\"]\n",
        "        content = msg[\"content\"]\n",
        "        if role == \"system\":\n",
        "            formatted += f\"<|system|>\\n{content}\\n\"\n",
        "        elif role == \"user\":\n",
        "            formatted += f\"<|user|>\\n{content}\\n\"\n",
        "        elif role == \"assistant\":\n",
        "            formatted += f\"<|assistant|>\\n{content}\\n\"\n",
        "    formatted += \"<|assistant|>\\n\"  # model should now generate the response\n",
        "    return formatted"
      ],
      "metadata": {
        "id": "yJZySqM_cHyr"
      },
      "execution_count": null,
      "outputs": []
    },
    {
      "cell_type": "code",
      "source": [
        "# Constructing batches for generating predictions\n",
        "from torch.utils.data import DataLoader\n",
        "batch_size = 32\n",
        "\n",
        "formatted_prompts = []\n",
        "ground_truths = []\n",
        "for example in dataset_snap_w12_llm[\"test\"]:\n",
        "    prompt_list = example[\"prompt\"]       # a list of {\"role\": ..., \"content\": ...}\n",
        "    formatted = format_chat_prompt(prompt_list)  # convert to formatted prompt string\n",
        "    formatted_prompts.append(formatted)\n",
        "    ground_truths.append(example[\"completion\"])\n",
        "\n",
        "\n",
        "dataloader = DataLoader(\n",
        "    formatted_prompts,\n",
        "    batch_size=batch_size\n",
        ")"
      ],
      "metadata": {
        "id": "D5afSeYcdE-J"
      },
      "execution_count": null,
      "outputs": []
    },
    {
      "cell_type": "code",
      "source": [
        "# Converting LoRA layers to bfloat16 manually\n",
        "model_dtype = next(model_finetuned.parameters()).dtype\n",
        "print(model_dtype)\n",
        "for name, param in model_finetuned.named_parameters():\n",
        "    if param.dtype == torch.float32:\n",
        "        param.data = param.data.to(torch.bfloat16)\n",
        "        print(name, param.dtype)"
      ],
      "metadata": {
        "id": "B6w-_d22dlhz"
      },
      "execution_count": null,
      "outputs": []
    },
    {
      "cell_type": "code",
      "source": [
        "tokenizer_finetuned.padding_side = \"left\""
      ],
      "metadata": {
        "id": "rprvUsPwduLo"
      },
      "execution_count": null,
      "outputs": []
    },
    {
      "cell_type": "code",
      "source": [
        "from tqdm.auto import tqdm\n",
        "\n",
        "# Store predictions\n",
        "all_predictions = []\n",
        "\n",
        "for batch_prompts in tqdm(dataloader, desc=\"Generating\"):\n",
        "    inputs = tokenizer_finetuned(\n",
        "        batch_prompts,\n",
        "        return_tensors=\"pt\",\n",
        "        padding=True,\n",
        "        truncation=True,\n",
        "        max_length=1024\n",
        "    )\n",
        "\n",
        "\n",
        "# Move input_ids to model.device (must be long/int64)\n",
        "    inputs[\"input_ids\"] = inputs[\"input_ids\"].to(device=model_finetuned.device)\n",
        "    # Ensure attention_mask is float and matches model's dtype\n",
        "    if \"attention_mask\" in inputs:\n",
        "        inputs[\"attention_mask\"] = inputs[\"attention_mask\"].to(device=model_finetuned.device, dtype=model_dtype)\n",
        "\n",
        "    with torch.no_grad():\n",
        "        output_ids = model_finetuned.generate(\n",
        "            **inputs,\n",
        "            max_new_tokens=100,\n",
        "            do_sample=False,\n",
        "            pad_token_id=tokenizer_finetuned.pad_token_id,\n",
        "            eos_token_id=tokenizer_finetuned.eos_token_id\n",
        "        )\n",
        "\n",
        "    decoded_outputs = tokenizer_finetuned.batch_decode(output_ids, skip_special_tokens=True)\n",
        "    all_predictions.extend([out.strip() for out in decoded_outputs])"
      ],
      "metadata": {
        "id": "5MZNRyGHdz45"
      },
      "execution_count": null,
      "outputs": []
    },
    {
      "cell_type": "code",
      "source": [
        "# Cleaning predicted values\n",
        "import pandas as pd\n",
        "import re\n",
        "\n",
        "cleaned_labels = []\n",
        "\n",
        "for pred in all_predictions:\n",
        "    # Get only content after <|assistant|>\n",
        "    text_pred = pred.split(\"<|assistant|>\\n\", 1)[-1]\n",
        "\n",
        "    # Get only the portion before \"#1\"\n",
        "    text_pred = text_pred.split(\"#1\")[0].strip()\n",
        "\n",
        "    # Remove brackets, quotes, and normalize spacing\n",
        "    match = re.search(r\"\\bYes\\b|\\bNo\\b\", text_pred, re.IGNORECASE)\n",
        "    if match:\n",
        "        cleaned_labels.append(match.group(0).title())  # Ensure title case\n",
        "    else:\n",
        "        cleaned_labels.append(\"Unknown\")  # fallback if parsing fails"
      ],
      "metadata": {
        "id": "mnNtM4RLebyz"
      },
      "execution_count": null,
      "outputs": []
    },
    {
      "cell_type": "code",
      "source": [
        "references = [\n",
        "    example[\"completion\"][0][\"content\"].strip().title()\n",
        "    for example in dataset_snap_w12_llm[\"test\"]\n",
        "]"
      ],
      "metadata": {
        "id": "TUWYAKRjhMfh"
      },
      "execution_count": null,
      "outputs": []
    },
    {
      "cell_type": "code",
      "source": [
        "df_cleaned_pred = pd.DataFrame({\n",
        "    \"Predicted_Label\": cleaned_labels,\n",
        "    \"Ground_Truth\": references\n",
        "})\n",
        "\n",
        "df_cleaned_pred.to_excel(\"finetuned_nonimputed_predictions_w12.xlsx\", index=False)"
      ],
      "metadata": {
        "id": "Qc8OACsf00n0"
      },
      "execution_count": null,
      "outputs": []
    },
    {
      "cell_type": "code",
      "source": [
        "from sklearn.metrics import accuracy_score, f1_score\n",
        "\n",
        "# If some predictions were \"Unknown\", skip those:\n",
        "valid = [(p, t) for p, t in zip(cleaned_labels, references) if p in [\"Yes\", \"No\"]]\n",
        "\n",
        "if valid:\n",
        "    y_pred, y_true = zip(*valid)\n",
        "    acc = accuracy_score(y_true, y_pred)\n",
        "    f1 = f1_score(y_true, y_pred, pos_label=\"Yes\")\n",
        "    print(f\"Accuracy: {acc:.4f}\")\n",
        "    print(f\"F1 Score: {f1:.4f}\")\n",
        "else:\n",
        "    print(\"No valid predictions to evaluate.\")"
      ],
      "metadata": {
        "id": "oEwqkax2hQHP"
      },
      "execution_count": null,
      "outputs": []
    },
    {
      "cell_type": "code",
      "source": [
        "# testing on imputed cases\n",
        "# preparing the test data\n",
        "df_snap_imp_w12 = df_snap_w12[df_snap_w12[\"imputed_snap\"] == True]\n",
        "df_snap_imp_w12_final = df_snap_imp_w12.drop(\"unique_ID\",axis=1).drop(\"snap_wave1\",axis=1).drop(\"imputed_snap_wave1\",axis=1).drop(\"snap\",axis=1).drop(\"imputed_snap\",axis=1)\n",
        "\n",
        "dataset_snap_imp_w12 = DatasetDict({\n",
        "    \"train\": Dataset.from_pandas(df_snap_nonimp_w12_train, preserve_index=False),  # Convert training dataframe to a Hugging Face Dataset\n",
        "    \"test\": Dataset.from_pandas(df_snap_imp_w12_final, preserve_index=False),    # Convert test dataframe to a Hugging Face Dataset\n",
        "})\n",
        "\n",
        "dataset_snap_imp_w12_llm = dataset_snap_imp_w12.map(build_prompt_completion).remove_columns(features+[label])"
      ],
      "metadata": {
        "id": "MnQ8L62Ih1wD"
      },
      "execution_count": null,
      "outputs": []
    },
    {
      "cell_type": "code",
      "source": [
        "# Constructing batches for generating predictions\n",
        "#from torch.utils.data import DataLoader\n",
        "batch_size_pred = 32\n",
        "\n",
        "formatted_prompts_imp = []\n",
        "imputed_sipp = []\n",
        "for example in dataset_snap_imp_w12_llm[\"test\"]:\n",
        "    prompt_list = example[\"prompt\"]       # a list of {\"role\": ..., \"content\": ...}\n",
        "    formatted_imp = format_chat_prompt(prompt_list)  # convert to formatted prompt string\n",
        "    formatted_prompts_imp.append(formatted_imp)\n",
        "    imputed_sipp.append(example[\"completion\"])\n",
        "\n",
        "\n",
        "dataloader_imp = DataLoader(\n",
        "    formatted_prompts_imp,\n",
        "    batch_size=batch_size_pred\n",
        ")"
      ],
      "metadata": {
        "id": "fgXgBhdTi8Vg"
      },
      "execution_count": null,
      "outputs": []
    },
    {
      "cell_type": "code",
      "source": [
        "# Converting LoRA layers to bfloat16 manually\n",
        "import torch\n",
        "\n",
        "model_dtype = next(model_finetuned.parameters()).dtype\n",
        "print(model_dtype)\n",
        "for name, param in model_finetuned.named_parameters():\n",
        "    if param.dtype == torch.float32:\n",
        "        param.data = param.data.to(torch.bfloat16)\n",
        "        print(name, param.dtype)"
      ],
      "metadata": {
        "id": "sm1ZPHlGjJPY"
      },
      "execution_count": null,
      "outputs": []
    },
    {
      "cell_type": "code",
      "source": [
        "tokenizer_finetuned.padding_side = \"left\"\n"
      ],
      "metadata": {
        "id": "p5P0JSPFk1_F"
      },
      "execution_count": null,
      "outputs": []
    },
    {
      "cell_type": "code",
      "source": [
        "from tqdm.auto import tqdm\n",
        "# Store predictions\n",
        "imputed_predictions = []\n",
        "\n",
        "for batch_prompts in tqdm(dataloader_imp, desc=\"Generating\"):\n",
        "    inputs_imp = tokenizer_finetuned(\n",
        "        batch_prompts,\n",
        "        return_tensors=\"pt\",\n",
        "        padding=True,\n",
        "        truncation=True,\n",
        "        max_length=1024\n",
        "    )\n",
        "\n",
        "    inputs_imp = {k: v.to(device=model_finetuned.device) for k, v in inputs_imp.items()}\n",
        "\n",
        "    with torch.no_grad():\n",
        "        output_imp_ids = model_finetuned.generate(\n",
        "            **inputs_imp,\n",
        "            max_new_tokens=100,\n",
        "            do_sample=False,\n",
        "            pad_token_id=tokenizer_finetuned.pad_token_id,\n",
        "            eos_token_id=tokenizer_finetuned.eos_token_id\n",
        "        )\n",
        "\n",
        "    decoded_outputs_imp = tokenizer_finetuned.batch_decode(output_imp_ids, skip_special_tokens=True)\n",
        "    imputed_predictions.extend([out.strip() for out in decoded_outputs_imp])"
      ],
      "metadata": {
        "id": "wXxhngOzlNEg"
      },
      "execution_count": null,
      "outputs": []
    },
    {
      "cell_type": "code",
      "source": [
        "# Cleaning predicted values for imputed set\n",
        "#import pandas as pd\n",
        "import re\n",
        "\n",
        "cleaned_labels_imp = []\n",
        "\n",
        "for pred in imputed_predictions:\n",
        "    # Get only content after <|assistant|>\n",
        "    text_pred_imp = pred.split(\"<|assistant|>\\n\", 1)[-1]\n",
        "\n",
        "    # Get only the portion before \"#1\"\n",
        "    text_pred_imp = text_pred_imp.split(\"#1\")[0].strip()\n",
        "\n",
        "    # Remove brackets, quotes, and normalize spacing\n",
        "    match_imp = re.search(r\"\\bYes\\b|\\bNo\\b\", text_pred_imp, re.IGNORECASE)\n",
        "    if match_imp:\n",
        "        cleaned_labels_imp.append(match_imp.group(0).title())  # Ensure title case\n",
        "    else:\n",
        "        cleaned_labels_imp.append(\"Unknown\")  # fallback if parsing fails\n",
        "\n",
        "references_imp = [\n",
        "    example[\"completion\"][0][\"content\"].strip().title()\n",
        "    for example in dataset_snap_imp_w12_llm[\"test\"]\n",
        "]"
      ],
      "metadata": {
        "id": "WI6Np11IldY2"
      },
      "execution_count": null,
      "outputs": []
    },
    {
      "cell_type": "code",
      "source": [
        "from sklearn.metrics import accuracy_score, f1_score\n",
        "\n",
        "# If some predictions were \"Unknown\", skip those:\n",
        "valid_imp = [(p, t) for p, t in zip(cleaned_labels_imp, references_imp) if p in [\"Yes\", \"No\"]]\n",
        "\n",
        "if valid_imp:\n",
        "    y_pred_imp, y_true_imp = zip(*valid_imp)\n",
        "    acc_imp = accuracy_score(y_true_imp, y_pred_imp)\n",
        "    f1_imp = f1_score(y_true_imp, y_pred_imp, pos_label=\"Yes\")\n",
        "    print(f\"Accuracy: {acc_imp:.4f}\")\n",
        "    print(f\"F1 Score: {f1_imp:.4f}\")\n",
        "else:\n",
        "    print(\"No valid predictions to evaluate.\")"
      ],
      "metadata": {
        "id": "VeAzktrjlh3m"
      },
      "execution_count": null,
      "outputs": []
    },
    {
      "cell_type": "code",
      "source": [
        "#Writing to excel\n",
        "\n",
        "df_imputed_pred = pd.DataFrame({\n",
        "    \"Predicted_Label\": cleaned_labels_imp,\n",
        "    \"Imputed_Label\": references_imp\n",
        "})\n",
        "\n",
        "df_imputed_pred.to_excel(\"finetuned_imputed_predictions_w12.xlsx\", index=False)"
      ],
      "metadata": {
        "id": "J-58gRXDmIJM"
      },
      "execution_count": null,
      "outputs": []
    }
  ]
}