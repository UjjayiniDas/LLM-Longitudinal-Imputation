{
  "cells": [
    {
      "cell_type": "code",
      "execution_count": null,
      "metadata": {
        "id": "rjExkJDYPKJz"
      },
      "outputs": [],
      "source": [
        "# Importing the sys module to access system-specific parameters and functions\n",
        "import sys\n",
        "# Importing the os module to interact with the operating system\n",
        "import os\n",
        "\n",
        "# This function checks if CUDA (GPU support) is available and installs necessary dependencies for fine-tuning\n",
        "# If CUDA is not available, it warns the user to select a GPU runtime\n",
        "# The function installs the following packages:\n",
        "# - openpyxl: Library for reading and writing Excel files (xlsx/xlsm/xltx/xltm)\n",
        "def install_dependencies():\n",
        "    import torch\n",
        "    if not torch.cuda.is_available():\n",
        "      print(\"CUDA is not available. \\nPick a GPU before running this notebook. \\nGo to 'Runtime' -> 'Change runtime type' to do this. (Colab)\")\n",
        "      return\n",
        "    %pip install bitsandbytes\n",
        "    %pip install accelerate\n",
        "    %pip install transformers\n",
        "    %pip install datasets\n",
        "    %pip install evaluate\n",
        "    %pip install peft\n",
        "    %pip install trl\n",
        "    %pip install evaluate\n",
        "    %pip install scikit-learn\n",
        "    %pip install wandb\n",
        "    return"
      ]
    },
    {
      "cell_type": "code",
      "execution_count": null,
      "metadata": {
        "id": "yvUSsaqVPO_B"
      },
      "outputs": [],
      "source": [
        "def is_running_in_colab():\n",
        "    return \"google.colab\" in sys.modules\n",
        "\n",
        "if is_running_in_colab() or is_running_in_kaggle():\n",
        "    print(\"Running on Colab/Kaggle\")\n",
        "    install_dependencies()\n",
        "else:\n",
        "    print(\"Not running in Colab/Kaggle\")"
      ]
    },
    {
      "cell_type": "code",
      "execution_count": null,
      "metadata": {
        "id": "9XHVJtK4PT2E"
      },
      "outputs": [],
      "source": [
        "import transformers\n",
        "\n",
        "seed = 22 # Please set your own favorite seed!\n",
        "\n",
        "# set the seed\n",
        "transformers.set_seed(seed)"
      ]
    },
    {
      "cell_type": "code",
      "execution_count": null,
      "metadata": {
        "id": "Rm9yp93uPZIA"
      },
      "outputs": [],
      "source": [
        "def download_data():\n",
        "    !git clone https://github.com/UjjayiniDas/LLM-NLPOR-Work.git\n",
        "    %mv LLM-NLPOR-Work/Data/ .\n",
        "    %rm -rf LLM-NLPOR-Work/\n",
        "    return\n",
        "\n",
        "download_data()"
      ]
    },
    {
      "cell_type": "code",
      "execution_count": null,
      "metadata": {
        "id": "T6HeiXQEQbX7"
      },
      "outputs": [],
      "source": [
        "# Import pandas for data manipulation and analysis\n",
        "# This library provides data structures like DataFrames that make working with structured data easy\n",
        "import pandas as pd\n",
        "\n",
        "# Read the CSV file into a pandas DataFrame\n",
        "df_snap_w123 = pd.read_csv(\"Data/Processed_for_LLM/Wave123_processed.csv\")\n",
        "df_snap_nonimp_w123= df_snap_w123[df_snap_w123[\"imputed_snap\"] == False]"
      ]
    },
    {
      "cell_type": "code",
      "execution_count": null,
      "metadata": {
        "id": "w6GZ-h1tpmBo"
      },
      "outputs": [],
      "source": [
        "# Removing imputed identifier column\n",
        "df_snap_nonimp_w123_final= df_snap_nonimp_w123.drop(\"unique_ID\",axis=1).drop(\"snap_wave2\",axis=1).drop(\"imputed_snap_wave2\",axis=1).drop(\"snap\",axis=1).drop(\"imputed_snap\",axis=1)"
      ]
    },
    {
      "cell_type": "code",
      "execution_count": null,
      "metadata": {
        "id": "jnMTq6_jWWJb"
      },
      "outputs": [],
      "source": [
        "# Display some rows of the DataFrame\n",
        "df_snap_nonimp_w123_final.head(5)"
      ]
    },
    {
      "cell_type": "code",
      "execution_count": null,
      "metadata": {
        "id": "oOSenUMcUiYD"
      },
      "outputs": [],
      "source": [
        "features = [\n",
        "    # Demographics\n",
        "    \"wave ID\",\n",
        "    \"marital status\",\n",
        "    \"sex\",\n",
        "    \"hispanic origin\",\n",
        "    \"race\",\n",
        "    \"education\",\n",
        "    \"citizenship\",\n",
        "    \"employment\",\n",
        "    \"state\",\n",
        "    \"age\",\n",
        "    \"SNAP_wave1\",\n",
        "    \"SNAP_wave2\",\n",
        "    \"income\"\n",
        "]\n",
        "label = \"SNAP\" # this is the snap coverage in wave 2 (dependent) in this dataset\n",
        "## No missing values"
      ]
    },
    {
      "cell_type": "code",
      "execution_count": null,
      "metadata": {
        "id": "0qfqBDs_VYst"
      },
      "outputs": [],
      "source": [
        "# Splitting nonimputed dataset into train/test\n",
        "#%pip install scikit-learn datasets\n",
        "#import sklearn\n",
        "from sklearn.model_selection import train_test_split\n",
        "from datasets import Dataset, DatasetDict\n",
        "\n",
        "df_snap_nonimp_w123_train, df_snap_nonimp_w123_test = train_test_split(\n",
        "    df_snap_nonimp_w123_final,  # The processed survey dataframe to split into train and test sets\n",
        "    test_size=0.3,        # Allocate 20% of the data to the test set\n",
        "    random_state=seed,    # Set a random seed for reproducibility of the split\n",
        ")\n",
        "\n",
        "\n",
        "dataset_snap_w123 = DatasetDict({\n",
        "    \"train\": Dataset.from_pandas(df_snap_nonimp_w123_train, preserve_index=False),  # Convert training dataframe to a Hugging Face Dataset\n",
        "    \"test\": Dataset.from_pandas(df_snap_nonimp_w123_test, preserve_index=False),    # Convert test dataframe to a Hugging Face Dataset\n",
        "})"
      ]
    },
    {
      "cell_type": "code",
      "execution_count": null,
      "metadata": {
        "id": "q1s3hKi5WydC"
      },
      "outputs": [],
      "source": [
        "# Model Selection\n",
        "# id of a model hosted on Hugging Face\n",
        "model_id = \"Qwen/Qwen2.5-0.5B-Instruct\"\n",
        "\n",
        "# Loading tokenizer\n",
        "from transformers import AutoTokenizer\n",
        "\n",
        "tokenizer = AutoTokenizer.from_pretrained(\n",
        "    model_id,  # The ID of the model to load the tokenizer for\n",
        "    revision= \"2b01de6d1108f9b2b5e46a726aa678a359b6c03b\", # NOTE: revision should be set for an reproducible experiment\n",
        "    trust_remote_code=True,  # Allow the tokenizer to execute remote code from the model repository\n",
        ")"
      ]
    },
    {
      "cell_type": "code",
      "execution_count": null,
      "metadata": {
        "id": "aN6y6fC_XiRy"
      },
      "outputs": [],
      "source": [
        "# Prompt Design\n",
        "instruction = (\n",
        "    \"You are an expert text classifier. Please perform a classification task. The Supplemental Nutrition Assistance Program (SNAP) provides food-purchasing assistance to low-income individuals and families in the U.S.\"\n",
        "    \"You will be given a respondent’s survey answers from the 2014 Survey of Income and Program Participation (SIPP) which include their demographic information, income, and their reported SNAP coverage in wave 1 and 2.\"\n",
        "    \"Based on this information, classify if the person has coverage for SNAP in wave 3.\"\n",
        "    \"Return only one label: either 'Yes' or 'No', without any other text.\\n\"\n",
        ")\n",
        "\n",
        "column_name_map= {\n",
        "    \"wave ID\":\"Wave of SIPP\",\n",
        "    \"marital status\":\"Marital Status\",\n",
        "    \"sex\":\"Sex\",\n",
        "    \"hispanic origin\":\"Hispanic Origin\",\n",
        "    \"race\":\"Race\",\n",
        "    \"education\":\"Educational Attainment\",\n",
        "    \"citizenship\":\"Citizenship\",\n",
        "    \"employment\":\"Employment Status\",\n",
        "    \"state\":\"State of Residence\",\n",
        "    \"age\":\"Age\",\n",
        "    \"SNAP_wave1\":\"Coverage for SNAP in Wave 1\",\n",
        "    \"SNAP_wave2\":\"Coverage for SNAP in Wave 2\",\n",
        "    \"SNAP\":\"Coverage for SNAP\",\n",
        "    \"income\": \"Income\"\n",
        "}"
      ]
    },
    {
      "cell_type": "code",
      "execution_count": null,
      "metadata": {
        "colab": {
          "base_uri": "https://localhost:8080/"
        },
        "id": "1MUh07OhYqSJ",
        "outputId": "9e85204c-ee5f-492b-bb7c-d5498ab9238a"
      },
      "outputs": [
        {
          "data": {
            "text/plain": [
              "{'prompt': [{'role': 'system',\n",
              "   'content': \"You are an expert text classifier. Please perform a classification task. The Supplemental Nutrition Assistance Program (SNAP) provides food-purchasing assistance to low-income individuals and families in the U.S.You will be given a respondent’s survey answers from the 2014 Survey of Income and Program Participation (SIPP) which include their demographic information, income, and their reported SNAP coverage in wave 1 and 2.Based on this information, classify if the person has coverage for SNAP in wave 3.Return only one label: either 'Yes' or 'No', without any other text.\\n\"},\n",
              "  {'role': 'user',\n",
              "   'content': 'Wave of SIPP: 3\\nMarital Status: Married, spouse present\\nSex: Female\\nHispanic Origin: Non hispanic\\nRace: White\\nEducational Attainment: Some college\\nCitizenship: US citizen\\nEmployment Status: With a job entire month, worked all weeks\\nState of Residence: Colorado\\nAge: 50\\nIncome: more than 10000 dollars\\nCoverage for SNAP in Wave 2: Yes\\nCoverage for SNAP in Wave 1: No'}],\n",
              " 'completion': [{'role': 'assistant', 'content': 'Yes'}]}"
            ]
          },
          "execution_count": 15,
          "metadata": {},
          "output_type": "execute_result"
        }
      ],
      "source": [
        "# Prompt Completion Pair\n",
        "def build_prompt_completion(\n",
        "    row: dict,\n",
        "    system_prompt: str = instruction,\n",
        ") -> list[list[dict]]:\n",
        "    user_prompt = \"\\n\".join(\n",
        "        [f\"{column_name_map[k]}: {v}\" for k, v in row.items() if k != label]\n",
        "    )\n",
        "    assistant_prompt = row[label]\n",
        "    return {\n",
        "        \"prompt\": [\n",
        "            {\n",
        "                \"role\": \"system\",\n",
        "                \"content\": system_prompt,\n",
        "            },\n",
        "            {\n",
        "                \"role\": \"user\",\n",
        "                \"content\": user_prompt,\n",
        "            },\n",
        "        ],\n",
        "        \"completion\": [\n",
        "            {\n",
        "                \"role\": \"assistant\",\n",
        "                \"content\": assistant_prompt,\n",
        "            },\n",
        "        ],\n",
        "    }\n",
        "\n",
        "\n",
        "build_prompt_completion(\n",
        "    row=dataset_snap_w123[\"train\"][0],\n",
        ")"
      ]
    },
    {
      "cell_type": "code",
      "execution_count": null,
      "metadata": {
        "id": "c_QhunuRZBaE"
      },
      "outputs": [],
      "source": [
        "# Transforming our tabular data into a format suitable for fine-tuning.\n",
        "dataset_snap_w123_llm = dataset_snap_w123.map(build_prompt_completion).remove_columns(features+[label])\n",
        "dataset_snap_w123_llm"
      ]
    },
    {
      "cell_type": "code",
      "execution_count": null,
      "metadata": {
        "id": "M-EKiNAxZhrf"
      },
      "outputs": [],
      "source": [
        "# Reducing the memory requirements of the model using quantization.\n",
        "import torch\n",
        "from transformers import AutoModelForCausalLM, BitsAndBytesConfig\n",
        "\n",
        "# load model in 4bit\n",
        "model = AutoModelForCausalLM.from_pretrained(\n",
        "    model_id,  # The ID of the model to load\n",
        "    quantization_config=BitsAndBytesConfig(\n",
        "        load_in_4bit=True,  # Enable 4-bit quantization to reduce memory usage\n",
        "    ),\n",
        "    trust_remote_code=True,  # Allow execution of remote code from the model repository\n",
        "    device_map=\"auto\",  # Automatically determine whether to use CPU or GPU\n",
        ")\n",
        "\n",
        "# Overview of the model architecture\n",
        "model"
      ]
    },
    {
      "cell_type": "code",
      "execution_count": null,
      "metadata": {
        "id": "tlnYR35zZ0X9"
      },
      "outputs": [],
      "source": [
        "from trl import SFTConfig, SFTTrainer\n",
        "from datetime import datetime\n",
        "from peft import LoraConfig, TaskType\n",
        "\n",
        "# key hyperparameters\n",
        "learning_rate = 2e-5  # Learning rate for optimizer - controls how quickly model parameters are updated\n",
        "batch_size = 8        # Number of samples processed in each training batch\n",
        "epochs = 1            # Number of complete passes through the training dataset (NOTE you should run multiple epochs in practice)\n",
        "\n",
        "now = datetime.now().strftime(\"%Y-%m-%d_%H-%M-%S\")\n",
        "dataset_name = \"sipp 2014 snap\"\n",
        "run_name = f\"{model_id}_{dataset_name}_seed_{seed}_{now}\" # The run name. TODO choose your own run name\n",
        "\n",
        "\n",
        "# key hyperparameters\n",
        "lora_rank = 8\n",
        "lora_alpha = 8\n",
        "\n",
        "lora_config = LoraConfig(\n",
        "    r=lora_rank,  # Rank of the low-rank matrices\n",
        "    lora_alpha=lora_alpha,  # Scaling factor for the LoRA contribution\n",
        "    lora_dropout=0.05,  # Dropout probability for regularization (default)\n",
        "    bias=\"none\",  # Don't apply LoRA to bias parameters (default)\n",
        "    task_type=TaskType.CAUSAL_LM,  # Specify that we're fine-tuning a causal language model\n",
        "    target_modules=\"all-linear\",  # Apply LoRA to all linear layers in the model\n",
        ")\n",
        "\n",
        "#lora_config\n",
        "\n",
        "training_args = SFTConfig(\n",
        "    # training parameters\n",
        "    per_device_train_batch_size=batch_size,  # number of samples per batch on each device during training\n",
        "    per_device_eval_batch_size=batch_size,   # number of samples per batch on each device during evaluation\n",
        "    num_train_epochs=epochs,                 # total number of training epochs\n",
        "\n",
        "    # evaluation settings\n",
        "    do_eval=True,                            # whether to run evaluation\n",
        "    eval_strategy=\"steps\",                   # when to run evaluation (after certain steps)\n",
        "    eval_steps=1 / 3,                        # evaluate after each third of an epoch\n",
        "\n",
        "    # logging configuration\n",
        "    logging_steps=10,                        # log metrics every 10 steps\n",
        "    report_to=\"none\",                        # send logs to desired places, we chose not to report\n",
        "    run_name=run_name,                       # name of the run for tracking\n",
        "\n",
        "    output_dir=\"./results\",                  # directory to save model checkpoints (and logs)\n",
        ")\n",
        "\n",
        "trainer = SFTTrainer(\n",
        "    model=model,                                       # The pre-trained model to fine-tune\n",
        "    train_dataset=dataset_snap_w123_llm[\"train\"],      # Training dataset with prompts and completions\n",
        "    eval_dataset=dataset_snap_w123_llm[\"test\"],        # Evaluation dataset for testing model performance\n",
        "    args=training_args,                                # Training configuration settings\n",
        "    peft_config=lora_config                            # LoRA configuration for parameter-efficient fine-tuning\n",
        "\n",
        ")"
      ]
    },
    {
      "cell_type": "code",
      "execution_count": null,
      "metadata": {
        "id": "R7AoTtyxacON"
      },
      "outputs": [],
      "source": [
        "trainer.train() # run fine-tuning and evaluate at intermediate steps"
      ]
    },
    {
      "cell_type": "code",
      "execution_count": null,
      "metadata": {
        "id": "pwoDp37HbiSF"
      },
      "outputs": [],
      "source": [
        "trainer.evaluate() # evaluate the model on test data to log zero-shot performance"
      ]
    },
    {
      "cell_type": "code",
      "execution_count": null,
      "metadata": {
        "colab": {
          "base_uri": "https://localhost:8080/"
        },
        "id": "URlzB1_Sb6KH",
        "outputId": "e4eced85-3c94-4dd6-9053-587fec169f2f"
      },
      "outputs": [],
      "source": [
        "#Updating model and tokenizer\n",
        "model_finetuned= trainer.model\n",
        "tokenizer_finetuned= trainer.tokenizer"
      ]
    },
    {
      "cell_type": "code",
      "execution_count": null,
      "metadata": {
        "id": "nznKEPr-cFC4"
      },
      "outputs": [],
      "source": [
        "#Saving fine tuned model\n",
        "\n",
        "save_path = \"/content/drive/MyDrive/qwen0.5b_wave123_0904\"\n",
        "\n",
        "trainer.save_model(save_path)          # saves model + config\n",
        "tokenizer.save_pretrained(save_path)   # saves tokenizer (required for reloading)"
      ]
    },
    {
      "cell_type": "code",
      "execution_count": null,
      "metadata": {
        "id": "yJZySqM_cHyr"
      },
      "outputs": [],
      "source": [
        "# Formatting the built prompt completion pair with specified roles and contents for easy cleaning\n",
        "def format_chat_prompt(prompt_list):\n",
        "    formatted = \"\"\n",
        "    for msg in prompt_list:\n",
        "        role = msg[\"role\"]\n",
        "        content = msg[\"content\"]\n",
        "        if role == \"system\":\n",
        "            formatted += f\"<|system|>\\n{content}\\n\"\n",
        "        elif role == \"user\":\n",
        "            formatted += f\"<|user|>\\n{content}\\n\"\n",
        "        elif role == \"assistant\":\n",
        "            formatted += f\"<|assistant|>\\n{content}\\n\"\n",
        "    formatted += \"<|assistant|>\\n\"  # model should now generate the response\n",
        "    return formatted"
      ]
    },
    {
      "cell_type": "code",
      "execution_count": null,
      "metadata": {
        "id": "D5afSeYcdE-J"
      },
      "outputs": [],
      "source": [
        "# Constructing batches for generating predictions\n",
        "from torch.utils.data import DataLoader\n",
        "batch_size = 64\n",
        "\n",
        "formatted_prompts = []\n",
        "ground_truths = []\n",
        "for example in dataset_snap_w123_llm[\"test\"]:\n",
        "    prompt_list = example[\"prompt\"]       # a list of {\"role\": ..., \"content\": ...}\n",
        "    formatted = format_chat_prompt(prompt_list)  # convert to formatted prompt string\n",
        "    formatted_prompts.append(formatted)\n",
        "    ground_truths.append(example[\"completion\"])\n",
        "\n",
        "\n",
        "dataloader = DataLoader(\n",
        "    formatted_prompts,\n",
        "    batch_size=batch_size\n",
        ")"
      ]
    },
    {
      "cell_type": "code",
      "execution_count": null,
      "metadata": {
        "id": "B6w-_d22dlhz"
      },
      "outputs": [],
      "source": [
        "# Converting LoRA layers to bfloat16 manually\n",
        "model_dtype = next(model_finetuned.parameters()).dtype\n",
        "print(model_dtype)\n",
        "for name, param in model_finetuned.named_parameters():\n",
        "    if param.dtype == torch.float32:\n",
        "        param.data = param.data.to(torch.bfloat16)\n",
        "        print(name, param.dtype)"
      ]
    },
    {
      "cell_type": "code",
      "execution_count": null,
      "metadata": {
        "id": "rprvUsPwduLo"
      },
      "outputs": [],
      "source": [
        "tokenizer_finetuned.padding_side = \"left\""
      ]
    },
    {
      "cell_type": "code",
      "execution_count": null,
      "metadata": {
        "id": "5MZNRyGHdz45"
      },
      "outputs": [],
      "source": [
        "from tqdm.auto import tqdm\n",
        "\n",
        "# Store predictions\n",
        "all_predictions = []\n",
        "\n",
        "for batch_prompts in tqdm(dataloader, desc=\"Generating\"):\n",
        "    inputs = tokenizer_finetuned(\n",
        "        batch_prompts,\n",
        "        return_tensors=\"pt\",\n",
        "        padding=True,\n",
        "        truncation=True,\n",
        "        max_length=1024\n",
        "    )\n",
        "\n",
        "\n",
        "# Move input_ids to model.device (must be long/int64)\n",
        "    inputs[\"input_ids\"] = inputs[\"input_ids\"].to(device=model_finetuned.device)\n",
        "    # Ensure attention_mask is float and matches model's dtype\n",
        "    if \"attention_mask\" in inputs:\n",
        "        inputs[\"attention_mask\"] = inputs[\"attention_mask\"].to(device=model_finetuned.device, dtype=model_dtype)\n",
        "\n",
        "    with torch.no_grad():\n",
        "        output_ids = model_finetuned.generate(\n",
        "            **inputs,\n",
        "            max_new_tokens=100,\n",
        "            do_sample=False,\n",
        "            pad_token_id=tokenizer_finetuned.pad_token_id,\n",
        "            eos_token_id=tokenizer_finetuned.eos_token_id\n",
        "        )\n",
        "\n",
        "    decoded_outputs = tokenizer_finetuned.batch_decode(output_ids, skip_special_tokens=True)\n",
        "    all_predictions.extend([out.strip() for out in decoded_outputs])"
      ]
    },
    {
      "cell_type": "code",
      "execution_count": null,
      "metadata": {
        "id": "noyhAaTpzaFf"
      },
      "outputs": [],
      "source": [
        "## Trial cleaning of data\n",
        "import pandas as pd\n",
        "import re\n",
        "\n",
        "\n",
        "cleaned_labels_trial = []\n",
        "\n",
        "for pred in all_predictions:\n",
        "    # Extract only the Yes/No that directly follows <|assistant|>\n",
        "    match = re.search(r\"<\\|assistant\\|>\\s*(Yes|No)\", pred, re.IGNORECASE)\n",
        "\n",
        "    if match:\n",
        "        cleaned_labels_trial.append(match.group(1).title())  # 'Yes' or 'No'\n",
        "    else:\n",
        "        cleaned_labels_trial.append(\"Unknown\")"
      ]
    },
    {
      "cell_type": "code",
      "execution_count": null,
      "metadata": {
        "id": "TUWYAKRjhMfh"
      },
      "outputs": [],
      "source": [
        "references = [\n",
        "    example[\"completion\"][0][\"content\"].strip().title()\n",
        "    for example in dataset_snap_w123_llm[\"test\"]\n",
        "]"
      ]
    },
    {
      "cell_type": "code",
      "execution_count": null,
      "metadata": {
        "id": "sTg5OXbYzqMD"
      },
      "outputs": [],
      "source": [
        "## Writing to excel (trial version of cleaned codes)\n",
        "df_cleaned = pd.DataFrame({\n",
        "    \"Predicted_Label\": cleaned_labels_trial,\n",
        "    \"ImputedSIPP_Label\": references\n",
        "})\n",
        "\n",
        "#df_cleaned.to_excel(\"finetuned_predictions_nonimputedw123.xlsx\", index=False)"
      ]
    },
    {
      "cell_type": "code",
      "execution_count": null,
      "metadata": {
        "id": "oEwqkax2hQHP"
      },
      "outputs": [],
      "source": [
        "from sklearn.metrics import accuracy_score, f1_score\n",
        "\n",
        "# If some predictions were \"Unknown\", skip those:\n",
        "valid = [(p, t) for p, t in zip(cleaned_labels_trial, references) if p in [\"Yes\", \"No\"]]\n",
        "\n",
        "if valid:\n",
        "    y_pred, y_true = zip(*valid)\n",
        "    acc = accuracy_score(y_true, y_pred)\n",
        "    f1 = f1_score(y_true, y_pred, pos_label=\"Yes\")\n",
        "    print(f\"Accuracy: {acc:.4f}\")\n",
        "    print(f\"F1 Score: {f1:.4f}\")\n",
        "else:\n",
        "    print(\"No valid predictions to evaluate.\")"
      ]
    },
    {
      "cell_type": "code",
      "execution_count": null,
      "metadata": {
        "id": "MnQ8L62Ih1wD"
      },
      "outputs": [],
      "source": [
        "# testing on imputed cases\n",
        "# preparing the test data\n",
        "df_snap_imp_w123 = df_snap_w123[df_snap_w123[\"imputed_snap\"] == True]\n",
        "df_snap_imp_w123_final = df_snap_imp_w123.drop(\"unique_ID\",axis=1).drop(\"snap_wave2\",axis=1).drop(\"imputed_snap_wave2\",axis=1).drop(\"snap\",axis=1).drop(\"imputed_snap\",axis=1)\n",
        "\n",
        "dataset_snap_imp_w123 = DatasetDict({\n",
        "    \"train\": Dataset.from_pandas(df_snap_nonimp_w123_train, preserve_index=False),  # Convert training dataframe to a Hugging Face Dataset\n",
        "    \"test\": Dataset.from_pandas(df_snap_imp_w123_final, preserve_index=False),    # Convert test dataframe to a Hugging Face Dataset\n",
        "})\n",
        "\n",
        "dataset_snap_imp_w123_llm = dataset_snap_imp_w123.map(build_prompt_completion).remove_columns(features+[label])"
      ]
    },
    {
      "cell_type": "code",
      "execution_count": null,
      "metadata": {
        "id": "fgXgBhdTi8Vg"
      },
      "outputs": [],
      "source": [
        "# Constructing batches for generating predictions\n",
        "from torch.utils.data import DataLoader\n",
        "batch_size_pred = 64  # You can go higher if GPU memory allows (up to 32+ on A100)\n",
        "\n",
        "formatted_prompts_imp = []\n",
        "imputed_sipp = []\n",
        "for example in dataset_snap_imp_w123_llm[\"test\"]:\n",
        "    prompt_list = example[\"prompt\"]       # a list of {\"role\": ..., \"content\": ...}\n",
        "    formatted_imp = format_chat_prompt(prompt_list)  # convert to formatted prompt string\n",
        "    formatted_prompts_imp.append(formatted_imp)\n",
        "    imputed_sipp.append(example[\"completion\"])\n",
        "\n",
        "\n",
        "dataloader_imp = DataLoader(\n",
        "    formatted_prompts_imp,\n",
        "    batch_size=batch_size_pred\n",
        ")"
      ]
    },
    {
      "cell_type": "code",
      "execution_count": null,
      "metadata": {
        "id": "sm1ZPHlGjJPY"
      },
      "outputs": [],
      "source": [
        "# Converting LoRA layers to bfloat16 manually\n",
        "#import torch\n",
        "\n",
        "model_dtype = next(model_finetuned.parameters()).dtype\n",
        "print(model_dtype)\n",
        "for name, param in model_finetuned.named_parameters():\n",
        "    if param.dtype == torch.float32:\n",
        "        param.data = param.data.to(torch.bfloat16)\n",
        "        print(name, param.dtype)"
      ]
    },
    {
      "cell_type": "code",
      "execution_count": null,
      "metadata": {
        "id": "p5P0JSPFk1_F"
      },
      "outputs": [],
      "source": [
        "tokenizer_finetuned.padding_side = \"left\"\n"
      ]
    },
    {
      "cell_type": "code",
      "execution_count": null,
      "metadata": {
        "id": "wXxhngOzlNEg"
      },
      "outputs": [],
      "source": [
        "from tqdm.auto import tqdm\n",
        "# Store predictions\n",
        "imputed_predictions = []\n",
        "\n",
        "for batch_prompts in tqdm(dataloader_imp, desc=\"Generating\"):\n",
        "    inputs_imp = tokenizer_finetuned(\n",
        "        batch_prompts,\n",
        "        return_tensors=\"pt\",\n",
        "        padding=True,\n",
        "        truncation=True,\n",
        "        max_length=1024\n",
        "    )\n",
        "\n",
        "    inputs_imp = {k: v.to(device=model_finetuned.device) for k, v in inputs_imp.items()}\n",
        "\n",
        "    with torch.no_grad():\n",
        "        output_imp_ids = model_finetuned.generate(\n",
        "            **inputs_imp,\n",
        "            max_new_tokens=100,\n",
        "            do_sample=False,\n",
        "            pad_token_id=tokenizer_finetuned.pad_token_id,\n",
        "            eos_token_id=tokenizer_finetuned.eos_token_id\n",
        "        )\n",
        "\n",
        "    decoded_outputs_imp = tokenizer_finetuned.batch_decode(output_imp_ids, skip_special_tokens=True)\n",
        "    imputed_predictions.extend([out.strip() for out in decoded_outputs_imp])"
      ]
    },
    {
      "cell_type": "code",
      "execution_count": null,
      "metadata": {
        "id": "fWUP3Cod4DTs"
      },
      "outputs": [],
      "source": [
        "## cleaning of data\n",
        "\n",
        "cleaned_labels_imp_trial = []\n",
        "\n",
        "for pred in imputed_predictions:\n",
        "    # Extract only the Yes/No that directly follows <|assistant|>\n",
        "    match = re.search(r\"<\\|assistant\\|>\\s*(Yes|No)\", pred, re.IGNORECASE)\n",
        "\n",
        "    if match:\n",
        "        cleaned_labels_imp_trial.append(match.group(1).title())  # 'Yes' or 'No'\n",
        "    else:\n",
        "        cleaned_labels_imp_trial.append(\"Unknown\")\n",
        "\n",
        "references_imp = [\n",
        "    example[\"completion\"][0][\"content\"].strip().title()\n",
        "    for example in dataset_snap_imp_w123_llm[\"test\"]\n",
        "]"
      ]
    },
    {
      "cell_type": "code",
      "execution_count": null,
      "metadata": {
        "id": "VeAzktrjlh3m"
      },
      "outputs": [],
      "source": [
        "\n",
        "\n",
        "# If some predictions were \"Unknown\", skip those:\n",
        "valid_imp = [(p, t) for p, t in zip(cleaned_labels_imp_trial, references_imp) if p in [\"Yes\", \"No\"]]\n",
        "\n",
        "if valid_imp:\n",
        "    y_pred_imp, y_true_imp = zip(*valid_imp)\n",
        "    acc_imp = accuracy_score(y_true_imp, y_pred_imp)\n",
        "    f1_imp = f1_score(y_true_imp, y_pred_imp, pos_label=\"Yes\")\n",
        "    print(f\"Accuracy: {acc_imp:.4f}\")\n",
        "    print(f\"F1 Score: {f1_imp:.4f}\")\n",
        "else:\n",
        "    print(\"No valid predictions to evaluate.\")"
      ]
    },
    {
      "cell_type": "code",
      "execution_count": null,
      "metadata": {
        "id": "unizJp-p45ZA"
      },
      "outputs": [],
      "source": [
        "## writing to excel trial cleaned data\n",
        "df_cleaned_imp = pd.DataFrame({\n",
        "    \"Predicted_Label\": cleaned_labels_imp_trial,\n",
        "    \"ImputedSIPP_Label\": references_imp\n",
        "})\n",
        "#df_cleaned_imp.to_excel(\"finetuned_predictions_imputedw123.xlsx\", index=False)"
      ]
    },
    {
      "cell_type": "code",
      "execution_count": null,
      "metadata": {
        "id": "moZDSOXNJZ--"
      },
      "outputs": [],
      "source": []
    }
  ],
  "metadata": {
    "accelerator": "GPU",
    "colab": {
      "gpuType": "A100",
      "provenance": []
    },
    "kernelspec": {
      "display_name": "Python 3",
      "name": "python3"
    },
    "language_info": {
      "name": "python"
    }
  },
  "nbformat": 4,
  "nbformat_minor": 0
}
